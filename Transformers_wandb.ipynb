{
  "nbformat": 4,
  "nbformat_minor": 0,
  "metadata": {
    "colab": {
      "name": "Transformers_wandb.ipynb",
      "provenance": []
    },
    "kernelspec": {
      "name": "python3",
      "display_name": "Python 3"
    },
    "language_info": {
      "name": "python"
    },
    "accelerator": "GPU"
  },
  "cells": [
    {
      "cell_type": "markdown",
      "source": [
        "## Libraries\n",
        "\n",
        "We install our transformer library."
      ],
      "metadata": {
        "id": "LI2_m6fbDR7h"
      }
    },
    {
      "cell_type": "code",
      "source": [
        "!pip install simpletransformers"
      ],
      "metadata": {
        "id": "hjI7nvpH-kHy"
      },
      "execution_count": null,
      "outputs": []
    },
    {
      "cell_type": "markdown",
      "source": [
        "## Weights and Biases\n",
        "\n",
        "We log into W&B - preferable using GitHub account:"
      ],
      "metadata": {
        "id": "bM7_7GOsDkh8"
      }
    },
    {
      "cell_type": "code",
      "execution_count": null,
      "metadata": {
        "id": "EQ8-UfBc-Vln"
      },
      "outputs": [],
      "source": [
        "!pip install wandb -qqq\n",
        "import wandb\n",
        "import pandas as pd\n",
        "wandb.login()"
      ]
    },
    {
      "cell_type": "markdown",
      "source": [
        "We download data and we cut it - we use only 15k records, because training takes too long with whole dataset"
      ],
      "metadata": {
        "id": "-wnHDZBTDty4"
      }
    },
    {
      "cell_type": "code",
      "source": [
        "!wget https://s3.amazonaws.com/fast-ai-nlp/ag_news_csv.tgz"
      ],
      "metadata": {
        "id": "aUnCWxKj_C1i"
      },
      "execution_count": null,
      "outputs": []
    },
    {
      "cell_type": "code",
      "source": [
        "!tar -xf ag_news_csv.tgz\n",
        "!mv ag_news_csv data"
      ],
      "metadata": {
        "id": "ZQwX2W-e_GuT"
      },
      "execution_count": null,
      "outputs": []
    },
    {
      "cell_type": "code",
      "source": [
        "!head -15000 data/train.csv > data/small_train.csv\n",
        "!tail -1500 data/train.csv >  data/small_test.csv \n",
        "!head -1500 data/test.csv > data/small_eval.csv"
      ],
      "metadata": {
        "id": "0XtaPVs6BHhD"
      },
      "execution_count": null,
      "outputs": []
    },
    {
      "cell_type": "markdown",
      "source": [
        "We concatenate columns 1 and 2 and then name it \"labels\" and \"text\" it is required by SimpleTransformer library:"
      ],
      "metadata": {
        "id": "yODiKy_gEEoS"
      }
    },
    {
      "cell_type": "code",
      "source": [
        "def preprocess_file(filename):\n",
        "  df = pd.read_csv(filename, header=None)\n",
        "  df['text'] = df.iloc[:, 1] + \" \" + df.iloc[:, 2]\n",
        "  df = df.drop(df.columns[[1, 2]], axis=1)\n",
        "  df.columns = ['labels', 'text']\n",
        "  df = df[['text', 'labels']]\n",
        "  df['text'] = df['text'].apply(lambda x: x.replace('\\\\', ' '))\n",
        "  df['labels'] = df['labels'].apply(lambda x:x-1)\n",
        "  return df\n"
      ],
      "metadata": {
        "id": "SyPnFyqu_4w-"
      },
      "execution_count": null,
      "outputs": []
    },
    {
      "cell_type": "code",
      "source": [
        "train_df = preprocess_file(\"data/small_train.csv\")\n",
        "eval_df = preprocess_file(\"data/small_eval.csv\")\n",
        "test_df = preprocess_file(\"data/small_test.csv\")"
      ],
      "metadata": {
        "id": "dkYIL_VI-oPb"
      },
      "execution_count": null,
      "outputs": []
    },
    {
      "cell_type": "code",
      "source": [
        "train_df.head()"
      ],
      "metadata": {
        "id": "4dVOZLS_ATp-"
      },
      "execution_count": null,
      "outputs": []
    },
    {
      "cell_type": "markdown",
      "source": [
        "## Training model\n",
        "\n",
        "Here we define model and parameter for training and run it."
      ],
      "metadata": {
        "id": "Dk8jSD0WEdGc"
      }
    },
    {
      "cell_type": "code",
      "source": [
        "from simpletransformers.classification import ClassificationModel\n",
        "\n",
        "\n",
        "# Training arguments\n",
        "train_args = {\n",
        "    'evaluate_during_training': True,\n",
        "    'num_train_epochs': 5,\n",
        "    'save_eval_checkpoints': False,\n",
        "    'train_batch_size': 32,\n",
        "    'eval_batch_size': 32,\n",
        "    'overwrite_output_dir': True,\n",
        "    'wandb_project': \"distilbert_training\",\n",
        "}\n",
        "\n",
        "# Create a ClassificationModel\n",
        "model = ClassificationModel('distilbert', 'distilbert-base-uncased', num_labels=4, use_cuda=True, cuda_device=0, args=train_args)\n",
        "\n",
        "# Train model\n",
        "model.train_model(train_df, eval_df=eval_df)\n",
        "result, model_outputs, wrong_predictions = model.eval_model(test_df)\n",
        "\n"
      ],
      "metadata": {
        "id": "D6NL2WPoAVXS"
      },
      "execution_count": null,
      "outputs": []
    },
    {
      "cell_type": "markdown",
      "source": [
        "### Zadania\n",
        "\n",
        "1. Sprawdzić jaki jest czas, kiedy nie korzystamy z CUDY (GPU)\n",
        "2. Sprobować rożnych parametrow i poprawić wyniki\n",
        "3. Sprawdzić inne modele do multi-class classification ze strony: https://simpletransformers.ai/docs/classification-specifics/"
      ],
      "metadata": {
        "id": "laF0vvRZBCor"
      }
    },
    {
      "cell_type": "code",
      "source": [],
      "metadata": {
        "id": "a5JVw9kMPa8v"
      },
      "execution_count": null,
      "outputs": []
    }
  ]
}