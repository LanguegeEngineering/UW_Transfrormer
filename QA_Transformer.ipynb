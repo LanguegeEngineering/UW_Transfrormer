{
  "nbformat": 4,
  "nbformat_minor": 0,
  "metadata": {
    "colab": {
      "provenance": []
    },
    "kernelspec": {
      "name": "python3",
      "display_name": "Python 3"
    },
    "language_info": {
      "name": "python"
    },
    "accelerator": "GPU"
  },
  "cells": [
    {
      "cell_type": "code",
      "source": [
        "!pip install simpletransformers"
      ],
      "metadata": {
        "id": "aKKtwrsvAL5X"
      },
      "execution_count": null,
      "outputs": []
    },
    {
      "cell_type": "markdown",
      "source": [
        "## SQAD \n",
        "\n",
        "Zobaczmy jak to działa: https://rajpurkar.github.io/SQuAD-explorer/explore/v2.0/dev/"
      ],
      "metadata": {
        "id": "QQ2700VAlcvn"
      }
    },
    {
      "cell_type": "code",
      "source": [
        "!wget https://rajpurkar.github.io/SQuAD-explorer/dataset/train-v2.0.json\n",
        "!wget https://rajpurkar.github.io/SQuAD-explorer/dataset/dev-v2.0.json"
      ],
      "metadata": {
        "id": "6vhVfaq0OVDK"
      },
      "execution_count": null,
      "outputs": []
    },
    {
      "cell_type": "code",
      "source": [
        "import json\n",
        "\n",
        "\n",
        "with open('train-v2.0.json', 'r') as f:\n",
        "    train_data = json.load(f)\n",
        "with open('dev-v2.0.json', 'r') as f:\n",
        "    val_data = json.load(f)\n",
        "\n",
        "\n",
        "\n",
        "train_data = [item for topic in train_data['data'] for item in topic['paragraphs'] ][:100]\n",
        "val_data = [item for topic in val_data['data'] for item in topic['paragraphs'] ][:50]"
      ],
      "metadata": {
        "id": "jXY3rLBzV4_O"
      },
      "execution_count": null,
      "outputs": []
    },
    {
      "cell_type": "code",
      "source": [
        "print(len(train_data))\n",
        "print(len(val_data))\n",
        "print(train_data[25])"
      ],
      "metadata": {
        "id": "vjpvEymanATx"
      },
      "execution_count": null,
      "outputs": []
    },
    {
      "cell_type": "code",
      "source": [
        "!pip install wandb -qqq\n",
        "import wandb\n",
        "wandb.login()"
      ],
      "metadata": {
        "id": "fDXZGn8qSOyj"
      },
      "execution_count": null,
      "outputs": []
    },
    {
      "cell_type": "code",
      "execution_count": null,
      "metadata": {
        "id": "1spk1-Mu_-oD"
      },
      "outputs": [],
      "source": [
        "import os\n",
        "\n",
        "from simpletransformers.question_answering import QuestionAnsweringModel\n",
        "\n",
        "\n",
        "train_args = {\n",
        "    'learning_rate': 3e-5,\n",
        "    'num_train_epochs': 2,\n",
        "    'max_seq_length': 384,\n",
        "    'doc_stride': 128,\n",
        "    'overwrite_output_dir': True,\n",
        "    'reprocess_input_data': False,\n",
        "    'train_batch_size': 2,\n",
        "    'gradient_accumulation_steps': 8, #less memory, longer time\n",
        "    'evaluate_during_training': True,\n",
        "    'wandb_project': \"qa_bert\"\n",
        "}\n",
        "\n",
        "model = QuestionAnsweringModel('bert', 'bert-base-cased', args=train_args)\n",
        "\n",
        "# Train the model\n",
        "model.train_model(train_data, eval_data=val_data)\n",
        "\n",
        "\n",
        "\n"
      ]
    },
    {
      "cell_type": "code",
      "source": [
        "predictions, raw_outputs = model.predict(val_data)\n",
        "\n",
        "os.makedirs('results', exist_ok=True)\n",
        "\n",
        "\n",
        "submission = {pred['id']: pred['answer'] for pred in predictions}\n",
        "\n",
        "with open('results/submission.json', 'w') as f:\n",
        "    json.dump(submission, f)"
      ],
      "metadata": {
        "id": "0_l3GpRLr5nr"
      },
      "execution_count": null,
      "outputs": []
    },
    {
      "cell_type": "code",
      "source": [],
      "metadata": {
        "id": "nhDmnyIiOny1"
      },
      "execution_count": null,
      "outputs": []
    }
  ]
}