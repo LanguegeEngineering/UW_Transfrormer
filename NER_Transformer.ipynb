{
  "nbformat": 4,
  "nbformat_minor": 0,
  "metadata": {
    "colab": {
      "provenance": []
    },
    "kernelspec": {
      "name": "python3",
      "display_name": "Python 3"
    },
    "language_info": {
      "name": "python"
    },
    "accelerator": "GPU"
  },
  "cells": [
    {
      "cell_type": "code",
      "source": [
        "!pip install simpletransformers"
      ],
      "metadata": {
        "id": "aKKtwrsvAL5X"
      },
      "execution_count": null,
      "outputs": []
    },
    {
      "cell_type": "code",
      "source": [
        "!wget http://mozart.ipipan.waw.pl/~grzewo/archive.zip\n",
        "!unzip archive.zip\n",
        "!head -20 train.txt"
      ],
      "metadata": {
        "id": "6vhVfaq0OVDK"
      },
      "execution_count": null,
      "outputs": []
    },
    {
      "cell_type": "code",
      "source": [
        "!wc -l train.txt"
      ],
      "metadata": {
        "id": "jXY3rLBzV4_O"
      },
      "execution_count": null,
      "outputs": []
    },
    {
      "cell_type": "code",
      "source": [
        "!head -50000 train.txt > small_train.txt"
      ],
      "metadata": {
        "id": "2Rq5axb5WHAd"
      },
      "execution_count": null,
      "outputs": []
    },
    {
      "cell_type": "code",
      "source": [
        "!pip install wandb -qqq\n",
        "import wandb\n",
        "wandb.login()"
      ],
      "metadata": {
        "id": "fDXZGn8qSOyj"
      },
      "execution_count": null,
      "outputs": []
    },
    {
      "cell_type": "code",
      "execution_count": null,
      "metadata": {
        "id": "1spk1-Mu_-oD"
      },
      "outputs": [],
      "source": [
        "from simpletransformers.ner.ner_model import NERModel\n",
        "\n",
        "train_args = {\n",
        "    'evaluate_during_training': True,\n",
        "    'evaluate_during_training_steps': 100,\n",
        "    'num_train_epochs': 3,\n",
        "    'save_eval_checkpoints': False,\n",
        "    'train_batch_size': 16,\n",
        "    'eval_batch_size': 16,\n",
        "    'overwrite_output_dir': True,\n",
        "    'wandb_project': \"ner_distilbert\"\n",
        "}\n",
        "\n",
        "# Create a NERModel\n",
        "model = NERModel('distilbert', 'distilbert-base-uncased', use_cuda=True, cuda_device=0, args=train_args)\n",
        "\n",
        "\n",
        "# Train the model\n",
        "model.train_model('small_train.txt', eval_data=\"valid.txt\")\n",
        "\n",
        "# Evaluate the model\n",
        "result, model_outputs, predictions = model.eval_model('test.txt')\n",
        "\n",
        "# Check predictions\n",
        "print(predictions[:5])\n",
        "wandb.finish()"
      ]
    },
    {
      "cell_type": "code",
      "source": [
        "print(result)"
      ],
      "metadata": {
        "id": "WsQDEN4COIQj"
      },
      "execution_count": null,
      "outputs": []
    },
    {
      "cell_type": "code",
      "source": [
        "predictions, raw_outputs = model.predict([\"My name is Gregory and I am from Poland\"])\n",
        "print(predictions)"
      ],
      "metadata": {
        "id": "2mSK0fwUOKJB"
      },
      "execution_count": null,
      "outputs": []
    },
    {
      "cell_type": "code",
      "source": [
        "print(raw_outputs)"
      ],
      "metadata": {
        "id": "-0jENHapOlkQ"
      },
      "execution_count": null,
      "outputs": []
    },
    {
      "cell_type": "code",
      "source": [],
      "metadata": {
        "id": "nhDmnyIiOny1"
      },
      "execution_count": null,
      "outputs": []
    }
  ]
}