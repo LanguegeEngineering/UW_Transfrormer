{
  "nbformat": 4,
  "nbformat_minor": 0,
  "metadata": {
    "colab": {
      "name": "BertvizTutorial.ipynb",
      "provenance": [],
      "collapsed_sections": []
    },
    "kernelspec": {
      "name": "python3",
      "display_name": "Python 3"
    },
    "language_info": {
      "name": "python"
    },
    "accelerator": "GPU"
  },
  "cells": [
    {
      "cell_type": "markdown",
      "source": [
        "# BertViz Interactive Tutorial\n"
      ],
      "metadata": {
        "id": "-GlgO5WBOYeF"
      }
    },
    {
      "cell_type": "code",
      "source": [
        "!pip install bertviz"
      ],
      "metadata": {
        "id": "aR07__FyOf8a"
      },
      "execution_count": null,
      "outputs": []
    },
    {
      "cell_type": "code",
      "source": [
        "# Load model and retrieve attention weights\n",
        "\n",
        "from bertviz import head_view, model_view\n",
        "from transformers import AutoModel, AutoTokenizer\n",
        "\n",
        "model_version = 'allegro/herbert-base-cased'\n",
        "model = AutoModel.from_pretrained(model_version, output_attentions=True)\n",
        "tokenizer = AutoTokenizer.from_pretrained(model_version)\n",
        "sentence_a = \"Jestem bardzo zmęczony w tym miesiącu\"\n",
        "sentence_b = \"Chcę się napić wody i żeby w niej była mięta.\"\n",
        "inputs = tokenizer.encode_plus(sentence_a, sentence_b, return_tensors='pt')\n",
        "input_ids = inputs['input_ids']\n",
        "token_type_ids = inputs['token_type_ids']\n",
        "attention = model(input_ids, token_type_ids=token_type_ids)[-1]\n",
        "sentence_b_start = token_type_ids[0].tolist().index(1)\n",
        "input_id_list = input_ids[0].tolist() # Batch index 0\n",
        "tokens = tokenizer.convert_ids_to_tokens(input_id_list) "
      ],
      "metadata": {
        "id": "TG-dQt3NOlub"
      },
      "execution_count": null,
      "outputs": []
    },
    {
      "cell_type": "markdown",
      "source": [
        "# Head View\n",
        "<b>The head view visualizes attention in one or more heads from a single Transformer layer.</b> Each line shows the attention from one token (left) to another (right). Line weight reflects the attention value (ranges from 0 to 1), while line color identifies the attention head. When multiple heads are selected (indicated by the colored tiles at the top), the corresponding  visualizations are overlaid onto one another.  For a more detailed explanation of attention in Transformer models, please refer to the [blog](https://towardsdatascience.com/deconstructing-bert-part-2-visualizing-the-inner-workings-of-attention-60a16d86b5c1).\n",
        "\n",
        "## Usage\n",
        "👉 **Hover** over any **token** on the left/right side of the visualization to filter attention from/to that token. <br/>\n",
        "👉 **Double-click** on any of the **colored tiles** at the top to filter to the corresponding attention head.<br/>\n",
        "👉 **Single-click** on any of the **colored tiles** to toggle selection of the corresponding attention head. <br/>\n",
        "👉 **Click** on the **Layer** drop-down to change the model layer (zero-indexed).\n"
      ],
      "metadata": {
        "id": "YLAhBxDSScmV"
      }
    },
    {
      "cell_type": "code",
      "source": [
        "head_view(attention, tokens, sentence_b_start)"
      ],
      "metadata": {
        "id": "twSVFOM9SopW"
      },
      "execution_count": null,
      "outputs": []
    },
    {
      "cell_type": "markdown",
      "source": [
        "# Model View\n",
        "<b>The model view provides a birds-eye view of attention throughout the entire model</b>. Each cell shows the attention weights for a particular head, indexed by layer (row) and head (column).  The lines in each cell represent the attention from one token (left) to another (right), with line weight proportional to the attention value (ranges from 0 to 1).  For a more detailed explanation, please refer to the [blog](https://towardsdatascience.com/deconstructing-bert-part-2-visualizing-the-inner-workings-of-attention-60a16d86b5c1).\n",
        "\n",
        "## Usage\n",
        "👉 **Click** on any **cell** for a detailed view of attention for the associated attention head (or to unselect that cell). <br/>\n",
        "👉 Then **hover** over any **token** on the left side of detail view to filter the attention from that token."
      ],
      "metadata": {
        "id": "o2L6axGyOt5K"
      }
    },
    {
      "cell_type": "code",
      "source": [
        "model_view(attention, tokens, sentence_b_start)"
      ],
      "metadata": {
        "id": "T3H0qUZvPOP4"
      },
      "execution_count": null,
      "outputs": []
    },
    {
      "cell_type": "markdown",
      "source": [
        "# Neuron View\n",
        "<b>The neuron view visualizes the intermediate representations (e.g. query and key vectors) that are used to compute attention.</b> In the collapsed view (initial state), the lines show the attention from each token (left) to every other token (right). In the expanded view, the tool traces the chain of computations that produce these attention weights. For a detailed explanation of the attention mechanism, please refer to the [blog](https://towardsdatascience.com/deconstructing-bert-part-2-visualizing-the-inner-workings-of-attention-60a16d86b5c1).\n",
        "\n",
        "## Usage\n",
        "👉 **Hover** over any of the tokens on the left side of the visualization to filter attention from that token.<br/>\n",
        "👉 Then **click** on the **plus** icon that is revealed when hovering. This exposes the query vectors, key vectors, and other intermediate representations used to compute the attention weights. Each color band represents a single neuron value, where color intensity indicates the magnitude and hue the sign (blue=positive, orange=negative).<br/>\n",
        "👉 Once in the expanded view, **hover** over any other **token** on the left to see the associated attention computations.<br/>\n",
        "👉 **Click** on the **Layer** or **Head** drop-downs to change the model layer or head (zero-indexed).\n"
      ],
      "metadata": {
        "id": "EYUPfoEWPxt_"
      }
    },
    {
      "cell_type": "code",
      "source": [
        "from bertviz.transformers_neuron_view import BertModel, BertTokenizer\n",
        "from bertviz.neuron_view import show\n",
        "\n",
        "model_type = 'bert'\n",
        "model_version = 'bert-base-uncased'\n",
        "sentence_a = \"I have no idea where is cat.\"\n",
        "sentence_b = \"I have seen it a long time ago.\"\n",
        "\n",
        "model = BertModel.from_pretrained(model_version, output_attentions=True)\n",
        "tokenizer = BertTokenizer.from_pretrained(model_version, do_lower_case=True)\n",
        "show(model, model_type, tokenizer, sentence_a, sentence_b, layer=5, head=5)"
      ],
      "metadata": {
        "id": "-QnRteSLP0Hm"
      },
      "execution_count": null,
      "outputs": []
    }
  ]
}