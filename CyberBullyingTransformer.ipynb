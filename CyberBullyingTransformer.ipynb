{
  "cells": [
    {
      "cell_type": "code",
      "execution_count": null,
      "metadata": {
        "id": "4NuWLlQuOKdy"
      },
      "outputs": [],
      "source": [
        "# Transformers installation\n",
        "! pip install transformers datasets\n",
        "# To install from source instead of the last release, comment the command above and uncomment the following one.\n",
        "# ! pip install git+https://github.com/huggingface/transformers.git"
      ]
    },
    {
      "cell_type": "markdown",
      "metadata": {
        "id": "YVlWyAD1OKdz"
      },
      "source": [
        "# Fine-tune a pretrained model"
      ]
    },
    {
      "cell_type": "markdown",
      "metadata": {
        "id": "PueYVhpoOKd0"
      },
      "source": [
        "## Prepare a dataset"
      ]
    },
    {
      "cell_type": "code",
      "execution_count": null,
      "metadata": {
        "id": "pBZELqNkQygN"
      },
      "outputs": [],
      "source": [
        "!pip install emoji==1.6.0"
      ]
    },
    {
      "cell_type": "code",
      "source": [
        "!pip install sacremoses"
      ],
      "metadata": {
        "id": "3S3iuobvHhPI"
      },
      "execution_count": null,
      "outputs": []
    },
    {
      "cell_type": "code",
      "execution_count": null,
      "metadata": {
        "id": "us_fRERQQsxS"
      },
      "outputs": [],
      "source": [
        "import re\n",
        "import emoji\n",
        "import numpy as np\n",
        "import pandas as pd\n",
        "from sklearn.metrics import accuracy_score, recall_score, precision_score, f1_score\n"
      ]
    },
    {
      "cell_type": "code",
      "execution_count": null,
      "metadata": {
        "id": "EZk8UL8XQ332"
      },
      "outputs": [],
      "source": [
        "!wget 2019.poleval.pl/task6/task_6-1.zip\n",
        "!unzip task_6-1.zip"
      ]
    },
    {
      "cell_type": "code",
      "execution_count": null,
      "metadata": {
        "id": "zgNFmgAgRDVx"
      },
      "outputs": [],
      "source": [
        "def makeReadable(line):\n",
        "  line = line.replace(\"@anonymized_account\", '')\n",
        "  line = line.replace(\"RT\", '')\n",
        "  line = line.replace(\"\\n\", '')\n",
        "  line = line.replace(\"\\\\\", '')\n",
        "  line = emoji.get_emoji_regexp().sub(u'', line)\n",
        "\n",
        "  urlRegex = r\"(?i)\\b((?:https?://|www\\d{0,3}[.]|[a-z0-9.\\-]+[.][a-z]{2,4}/)(?:[^\\s()<>]+|\\(([^\\s()<>]+|(\\([^\\s()<>]+\\)))*\\))+(?:\\(([^\\s()<>]+|(\\([^\\s()<>]+\\)))*\\)|[^\\s`!()\\[\\]{};:'\\\".,<>?«»“”‘’]))\"\n",
        "  line = re.sub(urlRegex, '', line)\n",
        "  line = line.replace(r\"https://\", '')\n",
        "\n",
        "  line = re.sub(\"#(\\w+)\", '', line)\n",
        "\n",
        "  line = re.sub('^\\s*', '', line)\n",
        "\n",
        "  return line"
      ]
    },
    {
      "cell_type": "code",
      "execution_count": null,
      "metadata": {
        "id": "mb40ib_gQ9is"
      },
      "outputs": [],
      "source": [
        "zdania = []\n",
        "max_length = 0\n",
        "with open (\"training_set_clean_only_text.txt\", \"r\", encoding='utf8') as textFile:\n",
        "   for line in textFile:\n",
        "     line = makeReadable(line)   \n",
        "     #print (line)\n",
        "     zdania.append(line)\n",
        "     if len(line.split()) > max_length:\n",
        "       max_length = len(line.split())\n",
        "\n",
        "print(len(zdania))\n",
        "print(max_length)"
      ]
    },
    {
      "cell_type": "code",
      "execution_count": null,
      "metadata": {
        "id": "9_mRWwcoRJXR"
      },
      "outputs": [],
      "source": [
        "klasy = []\n",
        "with open (\"training_set_clean_only_tags.txt\", \"r\", encoding='utf8') as textFile:\n",
        "   for line in textFile:\n",
        "    klasy.append(int(line))\n",
        "\n",
        "print(len(klasy))  "
      ]
    },
    {
      "cell_type": "code",
      "execution_count": null,
      "metadata": {
        "id": "_Z8-ZFK2RNHv"
      },
      "outputs": [],
      "source": [
        "listOfSentencesPlusTag = []\n",
        "\n",
        "for x in range (len(zdania)):\n",
        "  if len(zdania[x]) == 2: #usuniecie pozycji, które zawierają jedynie \"?\"    \n",
        "    zdania.remove(zdania[x])\n",
        "    klasy.remove(klasy[x])"
      ]
    },
    {
      "cell_type": "code",
      "execution_count": null,
      "metadata": {
        "id": "Su7p5A3URSOG"
      },
      "outputs": [],
      "source": [
        "df = pd.DataFrame(list(zip(zdania, klasy)),\n",
        "               columns =[\"text\", \"label\"])"
      ]
    },
    {
      "cell_type": "code",
      "execution_count": null,
      "metadata": {
        "id": "WgMfFdNzOKd1"
      },
      "outputs": [],
      "source": [
        "from datasets import Dataset\n",
        "\n",
        "dataset = Dataset.from_pandas(df)\n",
        "\n",
        "dataset[0]"
      ]
    },
    {
      "cell_type": "code",
      "execution_count": null,
      "metadata": {
        "id": "Wz1FOJ-vO91x"
      },
      "outputs": [],
      "source": [
        "type(dataset)"
      ]
    },
    {
      "cell_type": "markdown",
      "metadata": {
        "id": "RxRib084OKd2"
      },
      "source": [
        "As you now know, you need a tokenizer to process the text and include a padding and truncation strategy to handle any variable sequence lengths. To process your dataset in one step, use 🤗 Datasets [`map`](https://huggingface.co/docs/datasets/process.html#map) method to apply a preprocessing function over the entire dataset:"
      ]
    },
    {
      "cell_type": "code",
      "execution_count": null,
      "metadata": {
        "id": "EgI36U74OKd2"
      },
      "outputs": [],
      "source": [
        "from transformers import AutoTokenizer\n",
        "\n",
        "tokenizer = AutoTokenizer.from_pretrained(\"allegro/herbert-base-cased\")\n",
        "\n",
        "\n",
        "def tokenize_function(examples):\n",
        "    return tokenizer(examples[\"text\"], padding=\"max_length\", truncation=True)\n",
        "\n",
        "\n",
        "tokenized_datasets = dataset.map(tokenize_function, batched=True)"
      ]
    },
    {
      "cell_type": "code",
      "execution_count": null,
      "metadata": {
        "id": "SWCAcCFqSFWC"
      },
      "outputs": [],
      "source": [
        "len(tokenized_datasets)"
      ]
    },
    {
      "cell_type": "markdown",
      "metadata": {
        "id": "Q1jW-OiNOKd2"
      },
      "source": [
        "If you like, you can create a smaller subset of the full dataset to fine-tune on to reduce the time it takes:"
      ]
    },
    {
      "cell_type": "code",
      "execution_count": null,
      "metadata": {
        "id": "ctq1pJ3WOKd3"
      },
      "outputs": [],
      "source": [
        "final_dataset = tokenized_datasets.train_test_split(test_size=0.1)"
      ]
    },
    {
      "cell_type": "code",
      "execution_count": null,
      "metadata": {
        "id": "CtbZlhmXTk3x"
      },
      "outputs": [],
      "source": [
        "small_train_dataset = final_dataset[\"train\"].shuffle(seed=42).select(range(1000))\n",
        "small_eval_dataset = final_dataset[\"test\"].shuffle(seed=42).select(range(1000))\n"
      ]
    },
    {
      "cell_type": "markdown",
      "metadata": {
        "id": "1UAu2bHfOKd3"
      },
      "source": [
        "<a id='trainer'></a>"
      ]
    },
    {
      "cell_type": "markdown",
      "metadata": {
        "id": "dBQZGqKSOKd3"
      },
      "source": [
        "## Train"
      ]
    },
    {
      "cell_type": "markdown",
      "metadata": {
        "id": "H5wT7155OKd3"
      },
      "source": [
        "🤗 Transformers provides a [Trainer](https://huggingface.co/docs/transformers/main/en/main_classes/trainer#transformers.Trainer) class optimized for training 🤗 Transformers models, making it easier to start training without manually writing your own training loop. The [Trainer](https://huggingface.co/docs/transformers/main/en/main_classes/trainer#transformers.Trainer) API supports a wide range of training options and features such as logging, gradient accumulation, and mixed precision.\n",
        "\n",
        "Start by loading your model and specify the number of expected labels. From the Yelp Review [dataset card](https://huggingface.co/datasets/yelp_review_full#data-fields), you know there are five labels:"
      ]
    },
    {
      "cell_type": "code",
      "execution_count": null,
      "metadata": {
        "id": "4ZGdBvW2OKd4"
      },
      "outputs": [],
      "source": [
        "from transformers import AutoModelForSequenceClassification\n",
        "\n",
        "model = AutoModelForSequenceClassification.from_pretrained(\"allegro/herbert-base-cased\")"
      ]
    },
    {
      "cell_type": "markdown",
      "metadata": {
        "id": "t43Si7LyOKd4"
      },
      "source": [
        "<Tip>\n",
        "\n",
        "You will see a warning about some of the pretrained weights not being used and some weights being randomly\n",
        "initialized. Don't worry, this is completely normal! The pretrained head of the BERT model is discarded, and replaced with a randomly initialized classification head. You will fine-tune this new model head on your sequence classification task, transferring the knowledge of the pretrained model to it.\n",
        "\n",
        "</Tip>"
      ]
    },
    {
      "cell_type": "markdown",
      "metadata": {
        "id": "hOkJYOyTOKd4"
      },
      "source": [
        "### Training hyperparameters"
      ]
    },
    {
      "cell_type": "markdown",
      "metadata": {
        "id": "-O4XAI6COKd4"
      },
      "source": [
        "Next, create a [TrainingArguments](https://huggingface.co/docs/transformers/main/en/main_classes/trainer#transformers.TrainingArguments) class which contains all the hyperparameters you can tune as well as flags for activating different training options. For this tutorial you can start with the default training [hyperparameters](https://huggingface.co/docs/transformers/main_classes/trainer#transformers.TrainingArguments), but feel free to experiment with these to find your optimal settings.\n"
      ]
    },
    {
      "cell_type": "markdown",
      "metadata": {
        "id": "mOhMGmoAjQfg"
      },
      "source": [
        "### Wandb"
      ]
    },
    {
      "cell_type": "code",
      "execution_count": null,
      "metadata": {
        "id": "TM4iCPyYjTAV"
      },
      "outputs": [],
      "source": [
        "!pip install wandb -qqq\n",
        "import wandb\n",
        "wandb.login()\n"
      ]
    },
    {
      "cell_type": "code",
      "execution_count": null,
      "metadata": {
        "id": "YjPUOTM1jg8G"
      },
      "outputs": [],
      "source": [
        "!WANDB_PROJECT=cyberbullying_detection"
      ]
    },
    {
      "cell_type": "markdown",
      "metadata": {
        "id": "SUJxvFHBOKd4"
      },
      "source": [
        "### Metrics"
      ]
    },
    {
      "cell_type": "markdown",
      "metadata": {
        "id": "l4OzdEPTOKd4"
      },
      "source": [
        "[Trainer](https://huggingface.co/docs/transformers/main/en/main_classes/trainer#transformers.Trainer) does not automatically evaluate model performance during training. You will need to pass [Trainer](https://huggingface.co/docs/transformers/main/en/main_classes/trainer#transformers.Trainer) a function to compute and report metrics. The 🤗 Datasets library provides a simple [`accuracy`](https://huggingface.co/metrics/accuracy) function you can load with the `load_metric` (see this [tutorial](https://huggingface.co/docs/datasets/metrics.html) for more information) function."
      ]
    },
    {
      "cell_type": "markdown",
      "metadata": {
        "id": "MHOLCkBjOKd5"
      },
      "source": [
        "Call `compute` on `metric` to calculate the accuracy of your predictions. Before passing your predictions to `compute`, you need to convert the predictions to logits (remember all 🤗 Transformers models return logits):"
      ]
    },
    {
      "cell_type": "code",
      "execution_count": null,
      "metadata": {
        "id": "jg1EMv3fOKd5"
      },
      "outputs": [],
      "source": [
        "def compute_metrics(p):\n",
        "    pred, labels = p\n",
        "    pred = np.argmax(pred, axis=1)\n",
        "    \n",
        "    accuracy = accuracy_score(y_true=labels, y_pred=pred)\n",
        "    recall = recall_score(y_true=labels, y_pred=pred)\n",
        "    precision = precision_score(y_true=labels, y_pred=pred)\n",
        "    f1 = f1_score(y_true=labels, y_pred=pred)\n",
        "\n",
        "    return {\"accuracy\": accuracy, \"precision\": precision, \"recall\": recall, \"f1\": f1}"
      ]
    },
    {
      "cell_type": "markdown",
      "metadata": {
        "id": "F0yYKk9lOKd5"
      },
      "source": [
        "If you'd like to monitor your evaluation metrics during fine-tuning, specify the `evaluation_strategy` parameter in your training arguments to report the evaluation metric at the end of each epoch:"
      ]
    },
    {
      "cell_type": "code",
      "execution_count": null,
      "metadata": {
        "id": "6u0AinZUOKd5"
      },
      "outputs": [],
      "source": [
        "from transformers import TrainingArguments, Trainer\n",
        "\n",
        "training_args = TrainingArguments(output_dir=\"test_trainer\", \n",
        "                                  evaluation_strategy=\"epoch\", \n",
        "                                  num_train_epochs=3, \n",
        "                                  report_to=\"wandb\",  # enable logging to W&B\n",
        "                                  run_name=\"herbert-base\"  # name of the W&B run (optional)\n",
        ")"
      ]
    },
    {
      "cell_type": "markdown",
      "metadata": {
        "id": "ad0wOK_mOKd5"
      },
      "source": [
        "### Trainer"
      ]
    },
    {
      "cell_type": "markdown",
      "metadata": {
        "id": "ynO6yy_fOKd5"
      },
      "source": [
        "Create a [Trainer](https://huggingface.co/docs/transformers/main/en/main_classes/trainer#transformers.Trainer) object with your model, training arguments, training and test datasets, and evaluation function:"
      ]
    },
    {
      "cell_type": "code",
      "execution_count": null,
      "metadata": {
        "id": "8vU3OE-OOKd5"
      },
      "outputs": [],
      "source": [
        "trainer = Trainer(\n",
        "    model=model,\n",
        "    args=training_args,\n",
        "    train_dataset=small_train_dataset,\n",
        "    eval_dataset=small_eval_dataset,\n",
        "    compute_metrics=compute_metrics,\n",
        "\n",
        ")"
      ]
    },
    {
      "cell_type": "markdown",
      "metadata": {
        "id": "szWaOwoXOKd5"
      },
      "source": [
        "Then fine-tune your model by calling [train()](https://huggingface.co/docs/transformers/main/en/main_classes/trainer#transformers.Trainer.train):"
      ]
    },
    {
      "cell_type": "code",
      "execution_count": null,
      "metadata": {
        "id": "Pdb2_pnsOKd5"
      },
      "outputs": [],
      "source": [
        "trainer.train()"
      ]
    },
    {
      "cell_type": "markdown",
      "metadata": {
        "id": "tAG49UMKOKd5"
      },
      "source": [
        "<a id='keras'></a>"
      ]
    }
  ],
  "metadata": {
    "accelerator": "GPU",
    "colab": {
      "name": "CyberBullyingTransformer.ipynb",
      "provenance": []
    },
    "kernelspec": {
      "display_name": "Python 3",
      "name": "python3"
    },
    "language_info": {
      "name": "python"
    }
  },
  "nbformat": 4,
  "nbformat_minor": 0
}